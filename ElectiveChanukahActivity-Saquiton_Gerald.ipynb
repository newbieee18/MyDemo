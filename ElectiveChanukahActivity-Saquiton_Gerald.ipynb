{
 "cells": [
  {
   "cell_type": "code",
   "execution_count": null,
   "metadata": {},
   "outputs": [
    {
     "name": "stdout",
     "output_type": "stream",
     "text": [
      "Please enter number of input(s): 3\n",
      "Please enter number of days: 8\n",
      "Please enter number of days: 1\n",
      "Please enter number of days: 10\n",
      "[44.0, 2.0, 65.0] \n",
      "\n"
     ]
    }
   ],
   "source": [
    "k = 1\n",
    "candles = 0\n",
    "\n",
    "while True:\n",
    "    try:\n",
    "        results = []\n",
    "        p = int(input(\"Please enter number of input(s): \"))\n",
    "        if p>=1 and p<=10000:\n",
    "            for i in range(p):\n",
    "                days = int(input(\"Please enter number of days: \"))\n",
    "                candles = days + (days * (days + k) / 2)\n",
    "                results.append(candles)\n",
    "            print(results, \"\\n\")\n",
    "            continue\n",
    "        else:\n",
    "            print(\"Please enter between 1 and 10000\\n\")\n",
    "            continue\n",
    "    \n",
    "    except ValueError:\n",
    "        print(\"Wrong input please use a number!\\n\")\n",
    "        continue\n",
    "     \n",
    "    break\n",
    "\n",
    "\n",
    "    "
   ]
  },
  {
   "cell_type": "code",
   "execution_count": null,
   "metadata": {},
   "outputs": [],
   "source": []
  }
 ],
 "metadata": {
  "kernelspec": {
   "display_name": "Python 3",
   "language": "python",
   "name": "python3"
  },
  "language_info": {
   "codemirror_mode": {
    "name": "ipython",
    "version": 3
   },
   "file_extension": ".py",
   "mimetype": "text/x-python",
   "name": "python",
   "nbconvert_exporter": "python",
   "pygments_lexer": "ipython3",
   "version": "3.8.5"
  }
 },
 "nbformat": 4,
 "nbformat_minor": 4
}
